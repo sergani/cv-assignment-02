{
 "cells": [
  {
   "cell_type": "markdown",
   "metadata": {},
   "source": [
    "# Imports"
   ]
  },
  {
   "cell_type": "code",
   "execution_count": 1,
   "metadata": {
    "execution": {
     "iopub.execute_input": "2022-12-24T22:09:40.467093Z",
     "iopub.status.busy": "2022-12-24T22:09:40.466659Z",
     "iopub.status.idle": "2022-12-24T22:09:52.222400Z",
     "shell.execute_reply": "2022-12-24T22:09:52.221709Z",
     "shell.execute_reply.started": "2022-12-24T22:09:40.467026Z"
    },
    "tags": []
   },
   "outputs": [],
   "source": [
    "\n",
    "import numpy as np\n",
    "import pandas as pd\n",
    "import cv2\n",
    "import os\n",
    "import tensorflow as tf\n",
    "\n",
    "from zipfile import ZipFile\n",
    "from matplotlib import pyplot\n",
    "from sklearn.model_selection import train_test_split\n",
    "from tensorflow.keras.utils import to_categorical\n",
    "from tensorflow.keras.preprocessing.image import ImageDataGenerator\n",
    "from tensorflow.keras.preprocessing.image import load_img, img_to_array\n",
    "from tensorflow.keras.models import Sequential\n",
    "from tensorflow.keras.layers import Conv2D\n",
    "from tensorflow.keras.layers import MaxPooling2D\n",
    "from tensorflow.keras.layers import Dense\n",
    "from tensorflow.keras.layers import Flatten\n",
    "from tensorflow.keras.layers import BatchNormalization\n",
    "from tensorflow.keras.layers import Dropout\n",
    "from tensorflow.keras.callbacks import TensorBoard\n"
   ]
  },
  {
   "cell_type": "code",
   "execution_count": 2,
   "metadata": {},
   "outputs": [
    {
     "name": "stdout",
     "output_type": "stream",
     "text": [
      "Metal device set to: AMD Radeon Pro 5500M\n",
      "\n",
      "systemMemory: 32.00 GB\n",
      "maxCacheSize: 3.99 GB\n",
      "\n"
     ]
    },
    {
     "name": "stderr",
     "output_type": "stream",
     "text": [
      "2022-12-29 14:04:21.643538: I tensorflow/core/common_runtime/pluggable_device/pluggable_device_factory.cc:305] Could not identify NUMA node of platform GPU ID 0, defaulting to 0. Your kernel may not have been built with NUMA support.\n",
      "2022-12-29 14:04:21.643910: I tensorflow/core/common_runtime/pluggable_device/pluggable_device_factory.cc:271] Created TensorFlow device (/job:localhost/replica:0/task:0/device:GPU:0 with 0 MB memory) -> physical PluggableDevice (device: 0, name: METAL, pci bus id: <undefined>)\n"
     ]
    }
   ],
   "source": [
    "if os.path.exists('./model.h5'):\n",
    "    model = tf.keras.models.load_model('./model.h5')\n",
    "\n",
    "if os.path.exists('./model_enhanced.h5'):\n",
    "    model_enhanced = tf.keras.models.load_model('./model_enhanced.h5')\n"
   ]
  },
  {
   "cell_type": "markdown",
   "metadata": {},
   "source": [
    "# Dataset Download"
   ]
  },
  {
   "cell_type": "code",
   "execution_count": 2,
   "metadata": {
    "execution": {
     "iopub.execute_input": "2022-12-24T22:09:52.224562Z",
     "iopub.status.busy": "2022-12-24T22:09:52.223599Z",
     "iopub.status.idle": "2022-12-24T22:09:54.155376Z",
     "shell.execute_reply": "2022-12-24T22:09:54.154555Z",
     "shell.execute_reply.started": "2022-12-24T22:09:52.224535Z"
    },
    "tags": []
   },
   "outputs": [
    {
     "name": "stdout",
     "output_type": "stream",
     "text": [
      "Warning: Your Kaggle API key is readable by other users on this system! To fix this, you can run 'chmod 600 /Users/sergani/.kaggle/kaggle.json'\n",
      "dogs-vs-cats.zip: Skipping, found more recently modified local copy (use --force to force download)\n"
     ]
    }
   ],
   "source": [
    "# download the dataset\n",
    "# make sure you have your kaggle api key on the system\n",
    "!kaggle competitions download -c dogs-vs-cats"
   ]
  },
  {
   "cell_type": "markdown",
   "metadata": {},
   "source": [
    "# Data Preparation"
   ]
  },
  {
   "cell_type": "code",
   "execution_count": 3,
   "metadata": {
    "execution": {
     "iopub.execute_input": "2022-12-24T22:09:54.156955Z",
     "iopub.status.busy": "2022-12-24T22:09:54.156576Z",
     "iopub.status.idle": "2022-12-24T22:09:54.162130Z",
     "shell.execute_reply": "2022-12-24T22:09:54.161294Z",
     "shell.execute_reply.started": "2022-12-24T22:09:54.156930Z"
    },
    "tags": []
   },
   "outputs": [],
   "source": [
    "# define some files and dirs\n",
    "home_dir = os.path.expanduser('.')\n",
    "dvc_zip = os.path.expanduser('./dogs-vs-cats.zip')\n",
    "\n",
    "test1_zip = os.path.expanduser('./test1.zip')\n",
    "train_zip = os.path.expanduser('./train.zip')\n",
    "\n",
    "test1 = os.path.expanduser('./test1')\n",
    "train = os.path.expanduser('./train')"
   ]
  },
  {
   "cell_type": "code",
   "execution_count": 4,
   "metadata": {
    "execution": {
     "iopub.execute_input": "2022-12-24T22:09:54.164284Z",
     "iopub.status.busy": "2022-12-24T22:09:54.163821Z",
     "iopub.status.idle": "2022-12-24T22:09:54.169970Z",
     "shell.execute_reply": "2022-12-24T22:09:54.169176Z",
     "shell.execute_reply.started": "2022-12-24T22:09:54.164262Z"
    },
    "tags": []
   },
   "outputs": [],
   "source": [
    "# unzip the files\n",
    "if not (os.path.exists(test1_zip) and os.path.exists(train_zip)):\n",
    "    with ZipFile(dvc_zip) as z:\n",
    "        z.extractall(path=home_dir)\n",
    "\n",
    "if not os.path.exists(test1):\n",
    "    with ZipFile(test1_zip) as z:\n",
    "        z.extractall(path=home_dir)\n",
    "        \n",
    "if not os.path.exists(train):\n",
    "    with ZipFile(train_zip) as z:\n",
    "        z.extractall(path=home_dir)"
   ]
  },
  {
   "attachments": {},
   "cell_type": "markdown",
   "metadata": {},
   "source": [
    "## Training Data"
   ]
  },
  {
   "cell_type": "code",
   "execution_count": 5,
   "metadata": {
    "execution": {
     "iopub.execute_input": "2022-12-24T22:09:54.171542Z",
     "iopub.status.busy": "2022-12-24T22:09:54.171163Z",
     "iopub.status.idle": "2022-12-24T22:10:58.631356Z",
     "shell.execute_reply": "2022-12-24T22:10:58.630407Z",
     "shell.execute_reply.started": "2022-12-24T22:09:54.171509Z"
    },
    "tags": []
   },
   "outputs": [
    {
     "name": "stdout",
     "output_type": "stream",
     "text": [
      "(25000, 128, 128, 3)\n",
      "(25000, 1)\n"
     ]
    }
   ],
   "source": [
    "# create a list for the full dataset\n",
    "x_list = list()\n",
    "y_list = list()\n",
    "\n",
    "for f in os.listdir(train):\n",
    "    if f.startswith('dog'):\n",
    "        y_list.append([1])\n",
    "    elif f.startswith('cat'):\n",
    "        y_list.append([0])\n",
    "    \n",
    "    # load image file and set their size to 128 * 128\n",
    "    img_file = train + '/' + f\n",
    "    img = cv2.resize(cv2.imread(img_file), (128, 128))\n",
    "    \n",
    "    x_list.append(img)\n",
    "\n",
    "# convert train list to array\n",
    "x_full_ds = np.array(x_list, dtype='float16')\n",
    "y_full_ds = np.array(y_list, dtype='float16')\n",
    "\n",
    "# delete the lists\n",
    "del x_list\n",
    "del y_list\n",
    "\n",
    "print(x_full_ds.shape)\n",
    "print(y_full_ds.shape)\n"
   ]
  },
  {
   "cell_type": "code",
   "execution_count": 6,
   "metadata": {
    "execution": {
     "iopub.execute_input": "2022-12-24T22:10:58.632679Z",
     "iopub.status.busy": "2022-12-24T22:10:58.632359Z",
     "iopub.status.idle": "2022-12-24T22:10:58.647389Z",
     "shell.execute_reply": "2022-12-24T22:10:58.646692Z",
     "shell.execute_reply.started": "2022-12-24T22:10:58.632655Z"
    },
    "tags": []
   },
   "outputs": [
    {
     "data": {
      "text/plain": [
       "array([[0., 1.],\n",
       "       [1., 0.],\n",
       "       [0., 1.],\n",
       "       ...,\n",
       "       [0., 1.],\n",
       "       [1., 0.],\n",
       "       [1., 0.]], dtype=float32)"
      ]
     },
     "execution_count": 6,
     "metadata": {},
     "output_type": "execute_result"
    }
   ],
   "source": [
    "# convert train labels to categorical arrays\n",
    "y_full_ds = to_categorical(y_full_ds)\n",
    "\n",
    "y_full_ds"
   ]
  },
  {
   "cell_type": "code",
   "execution_count": 7,
   "metadata": {
    "execution": {
     "iopub.execute_input": "2022-12-24T22:10:58.649055Z",
     "iopub.status.busy": "2022-12-24T22:10:58.648499Z",
     "iopub.status.idle": "2022-12-24T22:11:13.847303Z",
     "shell.execute_reply": "2022-12-24T22:11:13.846648Z",
     "shell.execute_reply.started": "2022-12-24T22:10:58.649018Z"
    },
    "tags": []
   },
   "outputs": [
    {
     "data": {
      "text/plain": [
       "array([[[[0.1804  , 0.1333  , 0.0941  ],\n",
       "         [0.2157  , 0.1412  , 0.0902  ],\n",
       "         [0.2942  , 0.204   , 0.1412  ],\n",
       "         ...,\n",
       "         [0.863   , 0.706   , 0.608   ],\n",
       "         [0.9214  , 0.7607  , 0.6626  ],\n",
       "         [0.9136  , 0.749   , 0.643   ]],\n",
       "\n",
       "        [[0.1608  , 0.1137  , 0.0706  ],\n",
       "         [0.204   , 0.1294  , 0.0784  ],\n",
       "         [0.2627  , 0.1726  , 0.1098  ],\n",
       "         ...,\n",
       "         [0.8745  , 0.714   , 0.612   ],\n",
       "         [0.8706  , 0.71    , 0.608   ],\n",
       "         [0.9097  , 0.749   , 0.651   ]],\n",
       "\n",
       "        [[0.149   , 0.102   , 0.06274 ],\n",
       "         [0.1921  , 0.1177  , 0.06665 ],\n",
       "         [0.2666  , 0.1765  , 0.1137  ],\n",
       "         ...,\n",
       "         [0.8237  , 0.651   , 0.537   ],\n",
       "         [0.851   , 0.6943  , 0.5845  ],\n",
       "         [0.9136  , 0.757   , 0.6665  ]],\n",
       "\n",
       "        ...,\n",
       "\n",
       "        [[0.251   , 0.1412  , 0.1098  ],\n",
       "         [0.2079  , 0.1177  , 0.08234 ],\n",
       "         [0.1647  , 0.102   , 0.0549  ],\n",
       "         ...,\n",
       "         [0.3215  , 0.2196  , 0.1569  ],\n",
       "         [0.3254  , 0.2235  , 0.1608  ],\n",
       "         [0.341   , 0.2393  , 0.1765  ]],\n",
       "\n",
       "        [[0.2627  , 0.1333  , 0.1216  ],\n",
       "         [0.2588  , 0.1569  , 0.1294  ],\n",
       "         [0.2     , 0.1294  , 0.0863  ],\n",
       "         ...,\n",
       "         [0.3372  , 0.2354  , 0.1726  ],\n",
       "         [0.3372  , 0.2393  , 0.1765  ],\n",
       "         [0.3333  , 0.2313  , 0.1686  ]],\n",
       "\n",
       "        [[0.1882  , 0.1255  , 0.0745  ],\n",
       "         [0.1765  , 0.1294  , 0.08234 ],\n",
       "         [0.1372  , 0.1059  , 0.051   ],\n",
       "         ...,\n",
       "         [0.3176  , 0.2274  , 0.1647  ],\n",
       "         [0.306   , 0.2118  , 0.1412  ],\n",
       "         [0.3215  , 0.2235  , 0.149   ]]],\n",
       "\n",
       "\n",
       "       [[[0.604   , 0.4548  , 0.204   ],\n",
       "         [0.604   , 0.447   , 0.149   ],\n",
       "         [0.647   , 0.4902  , 0.153   ],\n",
       "         ...,\n",
       "         [0.718   , 0.5605  , 0.4     ],\n",
       "         [0.757   , 0.4863  , 0.1255  ],\n",
       "         [0.718   , 0.498   , 0.0902  ]],\n",
       "\n",
       "        [[0.6274  , 0.4863  , 0.2118  ],\n",
       "         [0.604   , 0.451   , 0.1412  ],\n",
       "         [0.6353  , 0.4746  , 0.1412  ],\n",
       "         ...,\n",
       "         [0.784   , 0.604   , 0.4548  ],\n",
       "         [0.7686  , 0.4902  , 0.1686  ],\n",
       "         [0.71    , 0.4746  , 0.1098  ]],\n",
       "\n",
       "        [[0.5923  , 0.4626  , 0.1451  ],\n",
       "         [0.608   , 0.4626  , 0.1333  ],\n",
       "         [0.643   , 0.4824  , 0.153   ],\n",
       "         ...,\n",
       "         [0.7725  , 0.5806  , 0.396   ],\n",
       "         [0.741   , 0.4666  , 0.1647  ],\n",
       "         [0.714   , 0.4746  , 0.1333  ]],\n",
       "\n",
       "        ...,\n",
       "\n",
       "        [[0.2864  , 0.1843  , 0.0353  ],\n",
       "         [0.3293  , 0.2235  , 0.05884 ],\n",
       "         [0.353   , 0.2313  , 0.051   ],\n",
       "         ...,\n",
       "         [0.5215  , 0.357   , 0.1098  ],\n",
       "         [0.5566  , 0.3765  , 0.0941  ],\n",
       "         [0.596   , 0.396   , 0.0941  ]],\n",
       "\n",
       "        [[0.2627  , 0.1843  , 0.04706 ],\n",
       "         [0.3137  , 0.2235  , 0.0863  ],\n",
       "         [0.3098  , 0.2079  , 0.0549  ],\n",
       "         ...,\n",
       "         [0.3176  , 0.1882  , 0.00392 ],\n",
       "         [0.4314  , 0.2825  , 0.05884 ],\n",
       "         [0.5254  , 0.357   , 0.0941  ]],\n",
       "\n",
       "        [[0.2432  , 0.1765  , 0.04706 ],\n",
       "         [0.2903  , 0.2118  , 0.0745  ],\n",
       "         [0.2864  , 0.1921  , 0.051   ],\n",
       "         ...,\n",
       "         [0.2588  , 0.149   , 0.00784 ],\n",
       "         [0.2627  , 0.1451  , 0.      ],\n",
       "         [0.349   , 0.2118  , 0.02353 ]]],\n",
       "\n",
       "\n",
       "       [[[0.2157  , 0.1804  , 0.3452  ],\n",
       "         [0.3098  , 0.2864  , 0.4038  ],\n",
       "         [0.5215  , 0.5137  , 0.5566  ],\n",
       "         ...,\n",
       "         [0.4902  , 0.4824  , 0.506   ],\n",
       "         [0.4785  , 0.4626  , 0.4863  ],\n",
       "         [0.4119  , 0.3882  , 0.408   ]],\n",
       "\n",
       "        [[0.2274  , 0.1921  , 0.3647  ],\n",
       "         [0.2744  , 0.2471  , 0.3804  ],\n",
       "         [0.4707  , 0.4626  , 0.5176  ],\n",
       "         ...,\n",
       "         [0.4746  , 0.4626  , 0.4863  ],\n",
       "         [0.4626  , 0.447   , 0.4707  ],\n",
       "         [0.4236  , 0.4     , 0.4197  ]],\n",
       "\n",
       "        [[0.2354  , 0.2     , 0.392   ],\n",
       "         [0.2354  , 0.2118  , 0.357   ],\n",
       "         [0.3882  , 0.3804  , 0.4548  ],\n",
       "         ...,\n",
       "         [0.4548  , 0.443   , 0.4666  ],\n",
       "         [0.4548  , 0.4314  , 0.4587  ],\n",
       "         [0.443   , 0.4158  , 0.4353  ]],\n",
       "\n",
       "        ...,\n",
       "\n",
       "        [[0.2864  , 0.2393  , 0.2313  ],\n",
       "         [0.2903  , 0.2432  , 0.2235  ],\n",
       "         [0.3215  , 0.255   , 0.2274  ],\n",
       "         ...,\n",
       "         [0.4158  , 0.2783  , 0.2274  ],\n",
       "         [0.3843  , 0.251   , 0.2     ],\n",
       "         [0.4197  , 0.2942  , 0.2393  ]],\n",
       "\n",
       "        [[0.255   , 0.2079  , 0.1921  ],\n",
       "         [0.2705  , 0.2157  , 0.196   ],\n",
       "         [0.298   , 0.2274  , 0.2     ],\n",
       "         ...,\n",
       "         [0.408   , 0.2471  , 0.1921  ],\n",
       "         [0.3843  , 0.2354  , 0.1804  ],\n",
       "         [0.4158  , 0.2705  , 0.2157  ]],\n",
       "\n",
       "        [[0.2783  , 0.2313  , 0.2157  ],\n",
       "         [0.2903  , 0.2313  , 0.2079  ],\n",
       "         [0.2864  , 0.2157  , 0.1882  ],\n",
       "         ...,\n",
       "         [0.4275  , 0.2627  , 0.204   ],\n",
       "         [0.4314  , 0.2705  , 0.2118  ],\n",
       "         [0.451   , 0.2942  , 0.2354  ]]],\n",
       "\n",
       "\n",
       "       ...,\n",
       "\n",
       "\n",
       "       [[[0.011765, 0.01569 , 0.00784 ],\n",
       "         [0.011765, 0.01569 , 0.00784 ],\n",
       "         [0.011765, 0.01569 , 0.00784 ],\n",
       "         ...,\n",
       "         [0.506   , 0.5845  , 0.5845  ],\n",
       "         [0.5176  , 0.596   , 0.604   ],\n",
       "         [0.4197  , 0.5137  , 0.5293  ]],\n",
       "\n",
       "        [[0.011765, 0.01569 , 0.00784 ],\n",
       "         [0.01569 , 0.01569 , 0.00784 ],\n",
       "         [0.011765, 0.01569 , 0.00784 ],\n",
       "         ...,\n",
       "         [0.612   , 0.718   , 0.702   ],\n",
       "         [0.4392  , 0.533   , 0.5254  ],\n",
       "         [0.443   , 0.5215  , 0.5293  ]],\n",
       "\n",
       "        [[0.011765, 0.01569 , 0.00784 ],\n",
       "         [0.011765, 0.01569 , 0.00784 ],\n",
       "         [0.01569 , 0.0196  , 0.011765],\n",
       "         ...,\n",
       "         [0.6235  , 0.7256  , 0.682   ],\n",
       "         [0.5845  , 0.678   , 0.647   ],\n",
       "         [0.6353  , 0.714   , 0.698   ]],\n",
       "\n",
       "        ...,\n",
       "\n",
       "        [[0.4707  , 0.5923  , 0.565   ],\n",
       "         [0.4707  , 0.6157  , 0.5845  ],\n",
       "         [0.4941  , 0.6587  , 0.612   ],\n",
       "         ...,\n",
       "         [0.2118  , 0.2903  , 0.3098  ],\n",
       "         [0.2705  , 0.3254  , 0.349   ],\n",
       "         [0.4392  , 0.4863  , 0.51    ]],\n",
       "\n",
       "        [[0.5215  , 0.643   , 0.6196  ],\n",
       "         [0.4785  , 0.639   , 0.608   ],\n",
       "         [0.443   , 0.6313  , 0.5728  ],\n",
       "         ...,\n",
       "         [0.4863  , 0.5845  , 0.604   ],\n",
       "         [0.5845  , 0.647   , 0.6704  ],\n",
       "         [0.51    , 0.545   , 0.5728  ]],\n",
       "\n",
       "        [[0.5566  , 0.6743  , 0.655   ],\n",
       "         [0.4275  , 0.6     , 0.533   ],\n",
       "         [0.302   , 0.4902  , 0.4275  ],\n",
       "         ...,\n",
       "         [0.2471  , 0.3333  , 0.3254  ],\n",
       "         [0.2705  , 0.357   , 0.349   ],\n",
       "         [0.3804  , 0.4626  , 0.4707  ]]],\n",
       "\n",
       "\n",
       "       [[[0.5293  , 0.5254  , 0.4707  ],\n",
       "         [0.533   , 0.5293  , 0.4746  ],\n",
       "         [0.549   , 0.545   , 0.4902  ],\n",
       "         ...,\n",
       "         [0.1765  , 0.1608  , 0.1412  ],\n",
       "         [0.1686  , 0.153   , 0.1333  ],\n",
       "         [0.1569  , 0.1412  , 0.1216  ]],\n",
       "\n",
       "        [[0.5254  , 0.5215  , 0.4666  ],\n",
       "         [0.537   , 0.5293  , 0.4785  ],\n",
       "         [0.541   , 0.537   , 0.4824  ],\n",
       "         ...,\n",
       "         [0.1569  , 0.1412  , 0.1216  ],\n",
       "         [0.153   , 0.1372  , 0.1177  ],\n",
       "         [0.1451  , 0.1294  , 0.1098  ]],\n",
       "\n",
       "        [[0.5293  , 0.5254  , 0.4707  ],\n",
       "         [0.537   , 0.533   , 0.4785  ],\n",
       "         [0.537   , 0.533   , 0.4785  ],\n",
       "         ...,\n",
       "         [0.149   , 0.1372  , 0.102   ],\n",
       "         [0.1412  , 0.1294  , 0.098   ],\n",
       "         [0.1451  , 0.1333  , 0.102   ]],\n",
       "\n",
       "        ...,\n",
       "\n",
       "        [[0.00392 , 0.00392 , 0.00392 ],\n",
       "         [0.00392 , 0.00392 , 0.00392 ],\n",
       "         [0.00392 , 0.00392 , 0.00392 ],\n",
       "         ...,\n",
       "         [0.00392 , 0.00392 , 0.00392 ],\n",
       "         [0.00392 , 0.00392 , 0.00392 ],\n",
       "         [0.00392 , 0.00392 , 0.00392 ]],\n",
       "\n",
       "        [[0.00392 , 0.00392 , 0.00392 ],\n",
       "         [0.00392 , 0.00392 , 0.00392 ],\n",
       "         [0.00392 , 0.00392 , 0.00392 ],\n",
       "         ...,\n",
       "         [0.00392 , 0.00392 , 0.00392 ],\n",
       "         [0.00392 , 0.00392 , 0.00392 ],\n",
       "         [0.00392 , 0.00392 , 0.00392 ]],\n",
       "\n",
       "        [[0.00392 , 0.00392 , 0.00392 ],\n",
       "         [0.00392 , 0.00392 , 0.00392 ],\n",
       "         [0.00392 , 0.00392 , 0.00392 ],\n",
       "         ...,\n",
       "         [0.00392 , 0.00392 , 0.00392 ],\n",
       "         [0.00392 , 0.00392 , 0.00392 ],\n",
       "         [0.00392 , 0.00392 , 0.00392 ]]],\n",
       "\n",
       "\n",
       "       [[[0.3137  , 0.3215  , 0.3254  ],\n",
       "         [0.3215  , 0.3293  , 0.3372  ],\n",
       "         [0.3098  , 0.3176  , 0.3215  ],\n",
       "         ...,\n",
       "         [0.1686  , 0.204   , 0.2196  ],\n",
       "         [0.08234 , 0.098   , 0.1177  ],\n",
       "         [0.02353 , 0.      , 0.01569 ]],\n",
       "\n",
       "        [[0.3333  , 0.341   , 0.3452  ],\n",
       "         [0.3254  , 0.3333  , 0.3372  ],\n",
       "         [0.3176  , 0.3254  , 0.3293  ],\n",
       "         ...,\n",
       "         [0.1765  , 0.2118  , 0.2235  ],\n",
       "         [0.1294  , 0.1451  , 0.1647  ],\n",
       "         [0.02745 , 0.01569 , 0.02745 ]],\n",
       "\n",
       "        [[0.3293  , 0.3372  , 0.341   ],\n",
       "         [0.341   , 0.349   , 0.353   ],\n",
       "         [0.3137  , 0.3215  , 0.3254  ],\n",
       "         ...,\n",
       "         [0.1451  , 0.1804  , 0.196   ],\n",
       "         [0.153   , 0.1686  , 0.1921  ],\n",
       "         [0.0196  , 0.02353 , 0.0392  ]],\n",
       "\n",
       "        ...,\n",
       "\n",
       "        [[0.2354  , 0.2157  , 0.2196  ],\n",
       "         [0.2627  , 0.2432  , 0.2471  ],\n",
       "         [0.3452  , 0.3254  , 0.3293  ],\n",
       "         ...,\n",
       "         [0.1098  , 0.1255  , 0.1569  ],\n",
       "         [0.0784  , 0.0941  , 0.1059  ],\n",
       "         [0.5176  , 0.5254  , 0.502   ]],\n",
       "\n",
       "        [[0.2274  , 0.2157  , 0.2235  ],\n",
       "         [0.2393  , 0.2274  , 0.2354  ],\n",
       "         [0.2744  , 0.2627  , 0.2705  ],\n",
       "         ...,\n",
       "         [0.2118  , 0.2471  , 0.2627  ],\n",
       "         [0.1686  , 0.1843  , 0.204   ],\n",
       "         [0.1098  , 0.1137  , 0.1372  ]],\n",
       "\n",
       "        [[0.1804  , 0.1686  , 0.1765  ],\n",
       "         [0.2235  , 0.2118  , 0.2196  ],\n",
       "         [0.2942  , 0.2825  , 0.2903  ],\n",
       "         ...,\n",
       "         [0.3452  , 0.3804  , 0.396   ],\n",
       "         [0.3372  , 0.353   , 0.3726  ],\n",
       "         [0.2432  , 0.2744  , 0.2942  ]]]], dtype=float16)"
      ]
     },
     "execution_count": 7,
     "metadata": {},
     "output_type": "execute_result"
    }
   ],
   "source": [
    "# normalize training data\n",
    "x_full_ds = x_full_ds / 255.0\n",
    "x_full_ds\n"
   ]
  },
  {
   "attachments": {},
   "cell_type": "markdown",
   "metadata": {},
   "source": [
    "## Prediction Data"
   ]
  },
  {
   "cell_type": "code",
   "execution_count": 8,
   "metadata": {},
   "outputs": [
    {
     "name": "stdout",
     "output_type": "stream",
     "text": [
      "(12500, 128, 128, 3)\n"
     ]
    }
   ],
   "source": [
    "# create a list for the full dataset\n",
    "x_pred_list = list()\n",
    "\n",
    "for f in os.listdir(test1):\n",
    "    # load image file and set their size to 128 * 128\n",
    "    img_file = test1 + '/' + f\n",
    "    img = cv2.resize(cv2.imread(img_file), (128, 128))\n",
    "    \n",
    "    x_pred_list.append(img)\n",
    "\n",
    "# convert train list to array\n",
    "x_pred_ds = np.array(x_pred_list, dtype='float16')\n",
    "\n",
    "# delete the prediction list\n",
    "del x_pred_list\n",
    "\n",
    "print(x_pred_ds.shape)\n",
    "\n",
    "# normalize data\n",
    "x_pred_ds = x_pred_ds / 255.0"
   ]
  },
  {
   "attachments": {},
   "cell_type": "markdown",
   "metadata": {},
   "source": [
    "## Split Train, Validate, and Test Data"
   ]
  },
  {
   "attachments": {},
   "cell_type": "markdown",
   "metadata": {},
   "source": [
    "We will split the data into three datasets:\n",
    "1. Train dataset (x_train, y_train)\n",
    "2. Validation dataset (x_val, y_val)\n",
    "3. Test dataset (x_test, y_test)\n",
    "\n",
    "The test dataset will be used to evaluate the models at the end of its training."
   ]
  },
  {
   "cell_type": "code",
   "execution_count": 9,
   "metadata": {},
   "outputs": [],
   "source": [
    "# split the full dataset to train and validation\n",
    "x_train, x_val, y_train, y_val = train_test_split(\n",
    "    x_full_ds, y_full_ds, test_size=0.2, random_state=0)\n",
    "\n",
    "# split the validation dataset to validation and test\n",
    "x_val, x_test, y_val, y_test = train_test_split(\n",
    "    x_val, y_val, test_size=0.5, random_state=0)\n",
    "\n",
    "# delete the full datasets - conserve memory\n",
    "del x_full_ds\n",
    "del y_full_ds"
   ]
  },
  {
   "cell_type": "markdown",
   "metadata": {},
   "source": [
    "# CNN Models"
   ]
  },
  {
   "cell_type": "markdown",
   "metadata": {},
   "source": [
    "## Baseline model"
   ]
  },
  {
   "cell_type": "code",
   "execution_count": 10,
   "metadata": {},
   "outputs": [
    {
     "name": "stderr",
     "output_type": "stream",
     "text": [
      "2022-12-29 14:11:25.516204: I tensorflow/core/common_runtime/pluggable_device/pluggable_device_factory.cc:305] Could not identify NUMA node of platform GPU ID 0, defaulting to 0. Your kernel may not have been built with NUMA support.\n",
      "2022-12-29 14:11:25.516531: I tensorflow/core/common_runtime/pluggable_device/pluggable_device_factory.cc:271] Created TensorFlow device (/job:localhost/replica:0/task:0/device:GPU:0 with 0 MB memory) -> physical PluggableDevice (device: 0, name: METAL, pci bus id: <undefined>)\n"
     ]
    },
    {
     "name": "stdout",
     "output_type": "stream",
     "text": [
      "Metal device set to: AMD Radeon Pro 5500M\n",
      "\n",
      "systemMemory: 32.00 GB\n",
      "maxCacheSize: 3.99 GB\n",
      "\n",
      "Model: \"sequential\"\n",
      "_________________________________________________________________\n",
      " Layer (type)                Output Shape              Param #   \n",
      "=================================================================\n",
      " conv2d (Conv2D)             (None, 128, 128, 32)      896       \n",
      "                                                                 \n",
      " conv2d_1 (Conv2D)           (None, 128, 128, 32)      9248      \n",
      "                                                                 \n",
      " max_pooling2d (MaxPooling2D  (None, 64, 64, 32)       0         \n",
      " )                                                               \n",
      "                                                                 \n",
      " flatten (Flatten)           (None, 131072)            0         \n",
      "                                                                 \n",
      " dense (Dense)               (None, 128)               16777344  \n",
      "                                                                 \n",
      " dense_1 (Dense)             (None, 2)                 258       \n",
      "                                                                 \n",
      "=================================================================\n",
      "Total params: 16,787,746\n",
      "Trainable params: 16,787,746\n",
      "Non-trainable params: 0\n",
      "_________________________________________________________________\n"
     ]
    }
   ],
   "source": [
    "%load_ext tensorboard\n",
    "\n",
    "# create folders\n",
    "# now = datetime.now().strftime('%Y%m%d%H%M')\n",
    "log_folder = f'Tensorboard Logs/Baseline Model'\n",
    "\n",
    "# callbacks for TensorBoard\n",
    "callbacks = TensorBoard(log_dir=log_folder, histogram_freq=1)\n",
    "\n",
    "model = Sequential()\n",
    "model.add(Conv2D(32, (3, 3), activation='relu',\n",
    "        kernel_initializer='he_uniform', padding='same', input_shape=(128, 128, 3)))\n",
    "model.add(Conv2D(32, (3, 3), activation='relu',\n",
    "        kernel_initializer='he_uniform', padding='same'))\n",
    "model.add(MaxPooling2D((2, 2)))\n",
    "model.add(Flatten())\n",
    "model.add(Dense(128, activation='relu', kernel_initializer='he_uniform'))\n",
    "model.add(Dense(2, activation='softmax'))\n",
    "\n",
    "# compile model\n",
    "model.compile(\n",
    "    optimizer='adam',\n",
    "    loss='categorical_crossentropy',\n",
    "    metrics=['accuracy'])\n",
    "\n",
    "model.summary()\n"
   ]
  },
  {
   "cell_type": "code",
   "execution_count": 11,
   "metadata": {},
   "outputs": [
    {
     "name": "stdout",
     "output_type": "stream",
     "text": [
      "Epoch 1/20\n"
     ]
    },
    {
     "name": "stderr",
     "output_type": "stream",
     "text": [
      "2022-12-29 14:11:32.587254: I tensorflow/core/grappler/optimizers/custom_graph_optimizer_registry.cc:113] Plugin optimizer for device_type GPU is enabled.\n"
     ]
    },
    {
     "name": "stdout",
     "output_type": "stream",
     "text": [
      "625/625 [==============================] - ETA: 0s - loss: 1.1596 - accuracy: 0.6423"
     ]
    },
    {
     "name": "stderr",
     "output_type": "stream",
     "text": [
      "2022-12-29 14:12:16.870074: I tensorflow/core/grappler/optimizers/custom_graph_optimizer_registry.cc:113] Plugin optimizer for device_type GPU is enabled.\n"
     ]
    },
    {
     "name": "stdout",
     "output_type": "stream",
     "text": [
      "625/625 [==============================] - 50s 77ms/step - loss: 1.1596 - accuracy: 0.6423 - val_loss: 0.5457 - val_accuracy: 0.7192\n",
      "Epoch 2/20\n",
      "625/625 [==============================] - 48s 77ms/step - loss: 0.4823 - accuracy: 0.7687 - val_loss: 0.5041 - val_accuracy: 0.7572\n",
      "Epoch 3/20\n",
      "625/625 [==============================] - 49s 78ms/step - loss: 0.3187 - accuracy: 0.8647 - val_loss: 0.5857 - val_accuracy: 0.7500\n",
      "Epoch 4/20\n",
      "625/625 [==============================] - 47s 75ms/step - loss: 0.1483 - accuracy: 0.9433 - val_loss: 0.8355 - val_accuracy: 0.7392\n",
      "Epoch 5/20\n",
      "625/625 [==============================] - 48s 77ms/step - loss: 0.0656 - accuracy: 0.9778 - val_loss: 1.1151 - val_accuracy: 0.7408\n",
      "Epoch 6/20\n",
      "625/625 [==============================] - 47s 75ms/step - loss: 0.0374 - accuracy: 0.9886 - val_loss: 1.2130 - val_accuracy: 0.7372\n",
      "Epoch 7/20\n",
      "625/625 [==============================] - 46s 73ms/step - loss: 0.0230 - accuracy: 0.9929 - val_loss: 1.3923 - val_accuracy: 0.7452\n",
      "Epoch 8/20\n",
      "625/625 [==============================] - 47s 75ms/step - loss: 0.0225 - accuracy: 0.9929 - val_loss: 1.6211 - val_accuracy: 0.7224\n",
      "Epoch 9/20\n",
      "625/625 [==============================] - 45s 73ms/step - loss: 0.0267 - accuracy: 0.9925 - val_loss: 1.5728 - val_accuracy: 0.7328\n",
      "Epoch 10/20\n",
      "625/625 [==============================] - 47s 74ms/step - loss: 0.0234 - accuracy: 0.9938 - val_loss: 1.6647 - val_accuracy: 0.7316\n",
      "Epoch 11/20\n",
      "625/625 [==============================] - 44s 71ms/step - loss: 0.0226 - accuracy: 0.9936 - val_loss: 1.4782 - val_accuracy: 0.7488\n",
      "Epoch 12/20\n",
      "625/625 [==============================] - 44s 71ms/step - loss: 0.0183 - accuracy: 0.9959 - val_loss: 1.7505 - val_accuracy: 0.7376\n",
      "Epoch 13/20\n",
      "625/625 [==============================] - 42s 67ms/step - loss: 0.0095 - accuracy: 0.9968 - val_loss: 1.8917 - val_accuracy: 0.7468\n",
      "Epoch 14/20\n",
      "625/625 [==============================] - 42s 67ms/step - loss: 0.0208 - accuracy: 0.9939 - val_loss: 1.6570 - val_accuracy: 0.7404\n",
      "Epoch 15/20\n",
      "625/625 [==============================] - 41s 66ms/step - loss: 0.0169 - accuracy: 0.9948 - val_loss: 1.9416 - val_accuracy: 0.7312\n",
      "Epoch 16/20\n",
      "625/625 [==============================] - 41s 65ms/step - loss: 0.0115 - accuracy: 0.9968 - val_loss: 2.0585 - val_accuracy: 0.7392\n",
      "Epoch 17/20\n",
      "625/625 [==============================] - 42s 67ms/step - loss: 0.0103 - accuracy: 0.9963 - val_loss: 2.0419 - val_accuracy: 0.7460\n",
      "Epoch 18/20\n",
      "625/625 [==============================] - 41s 66ms/step - loss: 0.0207 - accuracy: 0.9936 - val_loss: 1.9518 - val_accuracy: 0.7556\n",
      "Epoch 19/20\n",
      "625/625 [==============================] - 41s 66ms/step - loss: 0.0025 - accuracy: 0.9991 - val_loss: 2.4685 - val_accuracy: 0.7388\n",
      "Epoch 20/20\n",
      "625/625 [==============================] - 40s 64ms/step - loss: 4.9811e-04 - accuracy: 0.9997 - val_loss: 2.4735 - val_accuracy: 0.7396\n"
     ]
    }
   ],
   "source": [
    "history = model.fit(\n",
    "    x_train,\n",
    "    y_train,\n",
    "    epochs=20,\n",
    "    batch_size=32,\n",
    "    validation_data=(x_val, y_val),\n",
    "    callbacks=callbacks,\n",
    "    verbose=1)\n"
   ]
  },
  {
   "cell_type": "code",
   "execution_count": 12,
   "metadata": {},
   "outputs": [
    {
     "name": "stdout",
     "output_type": "stream",
     "text": [
      "79/79 [==============================] - 3s 37ms/step - loss: 2.2230 - accuracy: 0.7604\n",
      " Model accuracy: 76.04%\n"
     ]
    }
   ],
   "source": [
    "# evaluate the model accuracy\n",
    "loss, acc = model.evaluate(x_test, y_test, verbose=1)\n",
    "print(' Model accuracy: {:5.2f}%'.format(100 * acc))\n"
   ]
  },
  {
   "cell_type": "code",
   "execution_count": 13,
   "metadata": {},
   "outputs": [
    {
     "data": {
      "text/plain": [
       "<matplotlib.legend.Legend at 0x171d020a0>"
      ]
     },
     "execution_count": 13,
     "metadata": {},
     "output_type": "execute_result"
    },
    {
     "data": {
      "image/png": "[encoded data removed]",
      "text/plain": [
       "<Figure size 640x480 with 2 Axes>"
      ]
     },
     "metadata": {},
     "output_type": "display_data"
    }
   ],
   "source": [
    "# plot crossentropy losses\n",
    "pyplot.subplot(211)\n",
    "pyplot.title('Cross Entropy Loss')\n",
    "pyplot.plot(history.history['loss'], color='blue', label='train')\n",
    "pyplot.plot(history.history['val_loss'], color='orange', label='test')\n",
    "pyplot.legend()\n",
    "# plot accuracy\n",
    "pyplot.subplot(212)\n",
    "pyplot.title('Classification Accuracy')\n",
    "pyplot.plot(history.history['accuracy'], color='blue', label='train')\n",
    "pyplot.plot(history.history['val_accuracy'], color='orange', label='test')\n",
    "pyplot.legend()\n"
   ]
  },
  {
   "cell_type": "code",
   "execution_count": 14,
   "metadata": {},
   "outputs": [],
   "source": [
    "# save model\n",
    "model.save('model.h5')"
   ]
  },
  {
   "attachments": {},
   "cell_type": "markdown",
   "metadata": {},
   "source": [
    "### Prediction"
   ]
  },
  {
   "cell_type": "code",
   "execution_count": 15,
   "metadata": {},
   "outputs": [
    {
     "name": "stdout",
     "output_type": "stream",
     "text": [
      "  5/391 [..............................] - ETA: 10s"
     ]
    },
    {
     "name": "stderr",
     "output_type": "stream",
     "text": [
      "2022-12-29 14:26:33.495980: I tensorflow/core/grappler/optimizers/custom_graph_optimizer_registry.cc:113] Plugin optimizer for device_type GPU is enabled.\n"
     ]
    },
    {
     "name": "stdout",
     "output_type": "stream",
     "text": [
      "391/391 [==============================] - 12s 30ms/step\n"
     ]
    }
   ],
   "source": [
    "# predict the labels\n",
    "y_pred = model.predict(x_pred_ds)"
   ]
  },
  {
   "cell_type": "code",
   "execution_count": 16,
   "metadata": {},
   "outputs": [
    {
     "data": {
      "text/plain": [
       "(12500, 2)"
      ]
     },
     "execution_count": 16,
     "metadata": {},
     "output_type": "execute_result"
    }
   ],
   "source": [
    "y_pred.shape"
   ]
  },
  {
   "cell_type": "code",
   "execution_count": 17,
   "metadata": {},
   "outputs": [],
   "source": [
    "# create a dataframe with two columns, test image filename and prediction label\n",
    "df = pd.DataFrame()\n",
    "filename = []\n",
    "label = []\n",
    "for i in zip(os.listdir(test1), y_pred):\n",
    "    filename.append(i[0])\n",
    "    label.append('Dog' if i[1][1] > i[1][0] else 'Cat')\n",
    "\n",
    "df['Filename'] = filename\n",
    "df['Label'] = label\n",
    "\n",
    "df.head()\n",
    "\n",
    "df.to_csv('model_predictions.csv')"
   ]
  },
  {
   "cell_type": "markdown",
   "metadata": {},
   "source": [
    "## Enhanced Model"
   ]
  },
  {
   "cell_type": "code",
   "execution_count": 18,
   "metadata": {
    "execution": {
     "iopub.execute_input": "2022-12-24T22:11:13.848592Z",
     "iopub.status.busy": "2022-12-24T22:11:13.848287Z",
     "iopub.status.idle": "2022-12-24T22:11:15.807525Z",
     "shell.execute_reply": "2022-12-24T22:11:15.806782Z",
     "shell.execute_reply.started": "2022-12-24T22:11:13.848568Z"
    }
   },
   "outputs": [
    {
     "name": "stdout",
     "output_type": "stream",
     "text": [
      "The tensorboard extension is already loaded. To reload it, use:\n",
      "  %reload_ext tensorboard\n"
     ]
    }
   ],
   "source": [
    "%load_ext tensorboard\n",
    "\n",
    "# create folders\n",
    "# now = datetime.now().strftime('%Y%m%d%H%M')\n",
    "log_folder = f'Tensorboard Logs/Enhanced Model'\n",
    "\n",
    "# callbacks for TensorBoard\n",
    "callbacks = TensorBoard(log_dir=log_folder, histogram_freq=1)\n",
    "\n",
    "model_enhanced = Sequential()\n",
    "model_enhanced.add(Conv2D(32, (3, 3), activation='relu',\n",
    "                            kernel_initializer='he_uniform', padding='same', input_shape=(128, 128, 3)))\n",
    "model_enhanced.add(BatchNormalization())\n",
    "model_enhanced.add(Conv2D(32, (3, 3), activation='relu',\n",
    "                            kernel_initializer='he_uniform', padding='same'))\n",
    "model_enhanced.add(BatchNormalization())\n",
    "model_enhanced.add(MaxPooling2D((2, 2)))\n",
    "model_enhanced.add(Dropout(0.2))\n",
    "model_enhanced.add(Conv2D(64, (3, 3), activation='relu',\n",
    "                            kernel_initializer='he_uniform', padding='same'))\n",
    "model_enhanced.add(BatchNormalization())\n",
    "model_enhanced.add(Conv2D(64, (3, 3), activation='relu',\n",
    "                            kernel_initializer='he_uniform', padding='same'))\n",
    "model_enhanced.add(BatchNormalization())\n",
    "model_enhanced.add(MaxPooling2D((2, 2)))\n",
    "model_enhanced.add(Dropout(0.3))\n",
    "model_enhanced.add(Conv2D(128, (3, 3), activation='relu',\n",
    "                            kernel_initializer='he_uniform', padding='same'))\n",
    "model_enhanced.add(BatchNormalization())\n",
    "model_enhanced.add(Conv2D(128, (3, 3), activation='relu',\n",
    "                            kernel_initializer='he_uniform', padding='same'))\n",
    "model_enhanced.add(BatchNormalization())\n",
    "model_enhanced.add(MaxPooling2D((2, 2)))\n",
    "model_enhanced.add(Dropout(0.4))\n",
    "model_enhanced.add(Flatten())\n",
    "model_enhanced.add(Dense(128, activation='relu',\n",
    "                    kernel_initializer='he_uniform'))\n",
    "model_enhanced.add(BatchNormalization())\n",
    "model_enhanced.add(Dropout(0.5))\n",
    "model_enhanced.add(Dense(2, activation='softmax'))\n",
    "\n",
    "# compile model\n",
    "model_enhanced.compile(\n",
    "    optimizer='adam',\n",
    "    loss='categorical_crossentropy',\n",
    "    metrics=['accuracy'])\n"
   ]
  },
  {
   "cell_type": "code",
   "execution_count": 19,
   "metadata": {
    "execution": {
     "iopub.execute_input": "2022-12-24T22:11:15.809539Z",
     "iopub.status.busy": "2022-12-24T22:11:15.808630Z",
     "iopub.status.idle": "2022-12-24T22:11:15.874487Z",
     "shell.execute_reply": "2022-12-24T22:11:15.873474Z",
     "shell.execute_reply.started": "2022-12-24T22:11:15.809502Z"
    }
   },
   "outputs": [
    {
     "name": "stdout",
     "output_type": "stream",
     "text": [
      "Model: \"sequential_1\"\n",
      "_________________________________________________________________\n",
      " Layer (type)                Output Shape              Param #   \n",
      "=================================================================\n",
      " conv2d_2 (Conv2D)           (None, 128, 128, 32)      896       \n",
      "                                                                 \n",
      " batch_normalization (BatchN  (None, 128, 128, 32)     128       \n",
      " ormalization)                                                   \n",
      "                                                                 \n",
      " conv2d_3 (Conv2D)           (None, 128, 128, 32)      9248      \n",
      "                                                                 \n",
      " batch_normalization_1 (Batc  (None, 128, 128, 32)     128       \n",
      " hNormalization)                                                 \n",
      "                                                                 \n",
      " max_pooling2d_1 (MaxPooling  (None, 64, 64, 32)       0         \n",
      " 2D)                                                             \n",
      "                                                                 \n",
      " dropout (Dropout)           (None, 64, 64, 32)        0         \n",
      "                                                                 \n",
      " conv2d_4 (Conv2D)           (None, 64, 64, 64)        18496     \n",
      "                                                                 \n",
      " batch_normalization_2 (Batc  (None, 64, 64, 64)       256       \n",
      " hNormalization)                                                 \n",
      "                                                                 \n",
      " conv2d_5 (Conv2D)           (None, 64, 64, 64)        36928     \n",
      "                                                                 \n",
      " batch_normalization_3 (Batc  (None, 64, 64, 64)       256       \n",
      " hNormalization)                                                 \n",
      "                                                                 \n",
      " max_pooling2d_2 (MaxPooling  (None, 32, 32, 64)       0         \n",
      " 2D)                                                             \n",
      "                                                                 \n",
      " dropout_1 (Dropout)         (None, 32, 32, 64)        0         \n",
      "                                                                 \n",
      " conv2d_6 (Conv2D)           (None, 32, 32, 128)       73856     \n",
      "                                                                 \n",
      " batch_normalization_4 (Batc  (None, 32, 32, 128)      512       \n",
      " hNormalization)                                                 \n",
      "                                                                 \n",
      " conv2d_7 (Conv2D)           (None, 32, 32, 128)       147584    \n",
      "                                                                 \n",
      " batch_normalization_5 (Batc  (None, 32, 32, 128)      512       \n",
      " hNormalization)                                                 \n",
      "                                                                 \n",
      " max_pooling2d_3 (MaxPooling  (None, 16, 16, 128)      0         \n",
      " 2D)                                                             \n",
      "                                                                 \n",
      " dropout_2 (Dropout)         (None, 16, 16, 128)       0         \n",
      "                                                                 \n",
      " flatten_1 (Flatten)         (None, 32768)             0         \n",
      "                                                                 \n",
      " dense_2 (Dense)             (None, 128)               4194432   \n",
      "                                                                 \n",
      " batch_normalization_6 (Batc  (None, 128)              512       \n",
      " hNormalization)                                                 \n",
      "                                                                 \n",
      " dropout_3 (Dropout)         (None, 128)               0         \n",
      "                                                                 \n",
      " dense_3 (Dense)             (None, 2)                 258       \n",
      "                                                                 \n",
      "=================================================================\n",
      "Total params: 4,484,002\n",
      "Trainable params: 4,482,850\n",
      "Non-trainable params: 1,152\n",
      "_________________________________________________________________\n"
     ]
    }
   ],
   "source": [
    "model_enhanced.summary()\n"
   ]
  },
  {
   "cell_type": "code",
   "execution_count": 20,
   "metadata": {
    "execution": {
     "iopub.execute_input": "2022-12-24T22:11:15.877308Z",
     "iopub.status.busy": "2022-12-24T22:11:15.876983Z",
     "iopub.status.idle": "2022-12-24T22:11:21.861790Z",
     "shell.execute_reply": "2022-12-24T22:11:21.860999Z",
     "shell.execute_reply.started": "2022-12-24T22:11:15.877283Z"
    }
   },
   "outputs": [],
   "source": [
    "datagen = ImageDataGenerator(\n",
    "    # featurewise_center=True,\n",
    "    # featurewise_std_normalization=True,\n",
    "    rotation_range=20,\n",
    "    width_shift_range=0.1,\n",
    "    height_shift_range=0.1,\n",
    "    horizontal_flip=True,\n",
    "    validation_split=0.1)\n",
    "\n",
    "# prepare iterator\n",
    "it_train = datagen.flow(x_train, y_train, batch_size=32)"
   ]
  },
  {
   "cell_type": "code",
   "execution_count": 21,
   "metadata": {
    "execution": {
     "iopub.execute_input": "2022-12-24T22:11:21.863694Z",
     "iopub.status.busy": "2022-12-24T22:11:21.862915Z",
     "iopub.status.idle": "2022-12-24T22:31:25.412493Z",
     "shell.execute_reply": "2022-12-24T22:31:25.410790Z",
     "shell.execute_reply.started": "2022-12-24T22:11:21.863658Z"
    },
    "tags": []
   },
   "outputs": [
    {
     "name": "stdout",
     "output_type": "stream",
     "text": [
      "Epoch 1/20\n"
     ]
    },
    {
     "name": "stderr",
     "output_type": "stream",
     "text": [
      "2022-12-29 14:26:50.782103: I tensorflow/core/grappler/optimizers/custom_graph_optimizer_registry.cc:113] Plugin optimizer for device_type GPU is enabled.\n"
     ]
    },
    {
     "name": "stdout",
     "output_type": "stream",
     "text": [
      "625/625 [==============================] - ETA: 0s - loss: 0.6673 - accuracy: 0.6449"
     ]
    },
    {
     "name": "stderr",
     "output_type": "stream",
     "text": [
      "2022-12-29 14:28:06.322842: I tensorflow/core/grappler/optimizers/custom_graph_optimizer_registry.cc:113] Plugin optimizer for device_type GPU is enabled.\n"
     ]
    },
    {
     "name": "stdout",
     "output_type": "stream",
     "text": [
      "625/625 [==============================] - 81s 125ms/step - loss: 0.6673 - accuracy: 0.6449 - val_loss: 0.6514 - val_accuracy: 0.6724\n",
      "Epoch 2/20\n",
      "625/625 [==============================] - 80s 128ms/step - loss: 0.5956 - accuracy: 0.6823 - val_loss: 0.5294 - val_accuracy: 0.7312\n",
      "Epoch 3/20\n",
      "625/625 [==============================] - 80s 128ms/step - loss: 0.5155 - accuracy: 0.7436 - val_loss: 0.4589 - val_accuracy: 0.7844\n",
      "Epoch 4/20\n",
      "625/625 [==============================] - 80s 128ms/step - loss: 0.4656 - accuracy: 0.7793 - val_loss: 0.7940 - val_accuracy: 0.6416\n",
      "Epoch 5/20\n",
      "625/625 [==============================] - 81s 129ms/step - loss: 0.4084 - accuracy: 0.8137 - val_loss: 0.4045 - val_accuracy: 0.8092\n",
      "Epoch 6/20\n",
      "625/625 [==============================] - 81s 129ms/step - loss: 0.3564 - accuracy: 0.8415 - val_loss: 0.5510 - val_accuracy: 0.7600\n",
      "Epoch 7/20\n",
      "625/625 [==============================] - 81s 129ms/step - loss: 0.3045 - accuracy: 0.8666 - val_loss: 0.2647 - val_accuracy: 0.8888\n",
      "Epoch 8/20\n",
      "625/625 [==============================] - 81s 129ms/step - loss: 0.2777 - accuracy: 0.8822 - val_loss: 0.2419 - val_accuracy: 0.8932\n",
      "Epoch 9/20\n",
      "625/625 [==============================] - 81s 129ms/step - loss: 0.2495 - accuracy: 0.8947 - val_loss: 0.2227 - val_accuracy: 0.9076\n",
      "Epoch 10/20\n",
      "625/625 [==============================] - 81s 129ms/step - loss: 0.2324 - accuracy: 0.9013 - val_loss: 0.2270 - val_accuracy: 0.8992\n",
      "Epoch 11/20\n",
      "625/625 [==============================] - 81s 129ms/step - loss: 0.2085 - accuracy: 0.9124 - val_loss: 0.1831 - val_accuracy: 0.9224\n",
      "Epoch 12/20\n",
      "625/625 [==============================] - 82s 130ms/step - loss: 0.1996 - accuracy: 0.9185 - val_loss: 0.1745 - val_accuracy: 0.9296\n",
      "Epoch 13/20\n",
      "625/625 [==============================] - 82s 130ms/step - loss: 0.1912 - accuracy: 0.9233 - val_loss: 0.1995 - val_accuracy: 0.9204\n",
      "Epoch 14/20\n",
      "625/625 [==============================] - 85s 136ms/step - loss: 0.1783 - accuracy: 0.9273 - val_loss: 0.1662 - val_accuracy: 0.9344\n",
      "Epoch 15/20\n",
      "625/625 [==============================] - 89s 142ms/step - loss: 0.1780 - accuracy: 0.9281 - val_loss: 0.1849 - val_accuracy: 0.9268\n",
      "Epoch 16/20\n",
      "625/625 [==============================] - 86s 137ms/step - loss: 0.1702 - accuracy: 0.9307 - val_loss: 0.1641 - val_accuracy: 0.9340\n",
      "Epoch 17/20\n",
      "625/625 [==============================] - 87s 139ms/step - loss: 0.1631 - accuracy: 0.9331 - val_loss: 0.1641 - val_accuracy: 0.9308\n",
      "Epoch 18/20\n",
      "625/625 [==============================] - 84s 134ms/step - loss: 0.1574 - accuracy: 0.9366 - val_loss: 0.1303 - val_accuracy: 0.9460\n",
      "Epoch 19/20\n",
      "625/625 [==============================] - 83s 132ms/step - loss: 0.1500 - accuracy: 0.9408 - val_loss: 0.1580 - val_accuracy: 0.9380\n",
      "Epoch 20/20\n",
      "625/625 [==============================] - 82s 131ms/step - loss: 0.1528 - accuracy: 0.9372 - val_loss: 0.1275 - val_accuracy: 0.9492\n"
     ]
    }
   ],
   "source": [
    "# fit model\n",
    "steps = int(x_train.shape[0] / 32)\n",
    "history_enhanced = model_enhanced.fit(\n",
    "    it_train,\n",
    "    steps_per_epoch=steps,\n",
    "    epochs=20,\n",
    "    # validation_data=(it_x_test, it_y_test),\n",
    "    validation_data=(x_val, y_val),\n",
    "    callbacks=callbacks,\n",
    "    verbose=1)"
   ]
  },
  {
   "cell_type": "code",
   "execution_count": 22,
   "metadata": {},
   "outputs": [
    {
     "name": "stdout",
     "output_type": "stream",
     "text": [
      "79/79 [==============================] - 3s 41ms/step - loss: 0.1297 - accuracy: 0.9508\n",
      "Model accuracy: 95.08%\n"
     ]
    }
   ],
   "source": [
    "# evaluate the model accuracy\n",
    "loss, acc = model_enhanced.evaluate(x_test, y_test, verbose=1)\n",
    "print('Model accuracy: {:5.2f}%'.format(100 * acc))\n"
   ]
  },
  {
   "cell_type": "code",
   "execution_count": 23,
   "metadata": {},
   "outputs": [
    {
     "data": {
      "text/plain": [
       "<matplotlib.legend.Legend at 0x176da1fd0>"
      ]
     },
     "execution_count": 23,
     "metadata": {},
     "output_type": "execute_result"
    },
    {
     "data": {
      "image/png": "[encoded data removed]",
      "text/plain": [
       "<Figure size 640x480 with 2 Axes>"
      ]
     },
     "metadata": {},
     "output_type": "display_data"
    }
   ],
   "source": [
    "# plot crossentropy losses\n",
    "pyplot.subplot(211)\n",
    "pyplot.title('Cross Entropy Loss')\n",
    "pyplot.plot(history_enhanced.history['loss'], color='blue', label='train')\n",
    "pyplot.plot(history_enhanced.history['val_loss'], color='orange', label='test')\n",
    "pyplot.legend()\n",
    "# plot accuracy\n",
    "pyplot.subplot(212)\n",
    "pyplot.title('Classification Accuracy')\n",
    "pyplot.plot(history_enhanced.history['accuracy'], color='blue', label='train')\n",
    "pyplot.plot(history_enhanced.history['val_accuracy'], color='orange', label='test')\n",
    "pyplot.legend()\n"
   ]
  },
  {
   "cell_type": "code",
   "execution_count": 24,
   "metadata": {},
   "outputs": [],
   "source": [
    "model_enhanced.save('model_enhanced.h5')"
   ]
  },
  {
   "attachments": {},
   "cell_type": "markdown",
   "metadata": {},
   "source": [
    "### Prediction"
   ]
  },
  {
   "cell_type": "code",
   "execution_count": 25,
   "metadata": {},
   "outputs": [
    {
     "name": "stderr",
     "output_type": "stream",
     "text": [
      "2022-12-29 14:54:26.478341: I tensorflow/core/grappler/optimizers/custom_graph_optimizer_registry.cc:113] Plugin optimizer for device_type GPU is enabled.\n"
     ]
    },
    {
     "name": "stdout",
     "output_type": "stream",
     "text": [
      "391/391 [==============================] - 14s 34ms/step\n"
     ]
    }
   ],
   "source": [
    "# predict the labels\n",
    "y_pred = model_enhanced.predict(x_pred_ds)"
   ]
  },
  {
   "cell_type": "code",
   "execution_count": 26,
   "metadata": {},
   "outputs": [
    {
     "data": {
      "text/plain": [
       "(12500, 2)"
      ]
     },
     "execution_count": 26,
     "metadata": {},
     "output_type": "execute_result"
    }
   ],
   "source": [
    "y_pred.shape"
   ]
  },
  {
   "cell_type": "code",
   "execution_count": 27,
   "metadata": {},
   "outputs": [],
   "source": [
    "# create a dataframe with two columns, test image filename and prediction label\n",
    "df = pd.DataFrame()\n",
    "filename = []\n",
    "label = []\n",
    "for i in zip(os.listdir(test1), y_pred):\n",
    "    filename.append(i[0])\n",
    "    label.append('Dog' if i[1][1] > i[1][0] else 'Cat')\n",
    "\n",
    "df['Filename'] = filename\n",
    "df['Label'] = label\n",
    "\n",
    "df.head()\n",
    "\n",
    "df.to_csv('model_enhanced_predictions.csv')"
   ]
  },
  {
   "attachments": {},
   "cell_type": "markdown",
   "metadata": {},
   "source": [
    "## Transfer Learning"
   ]
  },
  {
   "cell_type": "code",
   "execution_count": 28,
   "metadata": {},
   "outputs": [],
   "source": [
    "pass"
   ]
  }
 ],
 "metadata": {
  "kernelspec": {
   "display_name": "amd_gpu",
   "language": "python",
   "name": "python3"
  },
  "language_info": {
   "codemirror_mode": {
    "name": "ipython",
    "version": 3
   },
   "file_extension": ".py",
   "mimetype": "text/x-python",
   "name": "python",
   "nbconvert_exporter": "python",
   "pygments_lexer": "ipython3",
   "version": "3.9.6"
  },
  "vscode": {
   "interpreter": {
    "hash": "34f9b91286e241d33c4af6503bdd457a85eca1ae4df54b048ac629e1b04b11cd"
   }
  }
 },
 "nbformat": 4,
 "nbformat_minor": 4
}
